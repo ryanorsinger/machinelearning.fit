{
 "cells": [
  {
   "cell_type": "markdown",
   "metadata": {},
   "source": [
    "# Hypothesis Testing (in a nutshell)\n",
    "![](https://www.coverdale.at/wp-content/uploads/2020/06/25_Agility-in-the-nutshell.jpg)"
   ]
  },
  {
   "cell_type": "markdown",
   "metadata": {},
   "source": [
    "## What?\n",
    "- We perform hypothesis testing to see if there's statistical evidence that suggests a relationship between variables exists. \n",
    "- The null hypothesis is that there is no difference between groups, no relationship, or no dependence between variables.\n",
    "- We use our hypothesis tests to disprove the null hypothesis (in order to show that there *is* a relationship.\n",
    "- We can never actually accept the null hypothesis, but rather only *fail* to reject the null.\n",
    "\n",
    "## So What?\n",
    "- **Hypothesis tests allow us to answer business questions through statistical questions/answers.**\n",
    "- If we reject our null hypothesis, it means that there's something interesting going on between our variables.\n",
    "- Rejecting the null hypothesis means there's a relationship and it's worth exploring more deeply.\n",
    "- Rejecting the null hypothesis means that variable A might be a good predictor of variable B.\n",
    "\n",
    "## Now What?\n",
    "- Prepare to test\n",
    "    1. Identify the 2 variables we want to test for a relationship\n",
    "    2. Determine the variable types and choose the approrpriate test type.\n",
    "        - Do we have two contiuous variables? (correlation test)\n",
    "        - Do we have one continuous and one categorical (t-test)\n",
    "        - Do we have two categorical variables (chi-squared)\n",
    "        - Do we have one continuous and multiple categorical (ANOVA)\n",
    "    3. Define and document the null hypothesis and the alternative hypothesis. Write them down before running any test.\n",
    "- Perform our test\n",
    "    1. Define our **confidence interval**. How sure do we want/need to be that the results aren't from chance/randomness?\n",
    "        - Our `alpha` is `1 - confidence interval`. So if we want to be 99% sure our findings are not explained by randomness, then our `alpha` would be `0.01`\n",
    "    2. Run the test to get the `p` value.\n",
    "        - `from scipy import stats`\n",
    "        - Select the right test then run it to get our `p` value.\n",
    "    3. If `p < alpha` then we reject the null hypothesis. Otherwise we fail to reject the null hypothesis, which means \"We failed to prove the effect/relationship\" in English.\n",
    "   \n",
    "![hypothesis testing diagram](./img/hypothesis_testing_types.png)"
   ]
  },
  {
   "cell_type": "code",
   "execution_count": 1,
   "metadata": {},
   "outputs": [],
   "source": [
    "from pydataset import data\n",
    "import pandas as pd\n",
    "import numpy as np\n",
    "import matplotlib.pyplot as plt\n",
    "import seaborn as sns"
   ]
  },
  {
   "cell_type": "code",
   "execution_count": 2,
   "metadata": {},
   "outputs": [
    {
     "data": {
      "text/html": [
       "<div>\n",
       "<style scoped>\n",
       "    .dataframe tbody tr th:only-of-type {\n",
       "        vertical-align: middle;\n",
       "    }\n",
       "\n",
       "    .dataframe tbody tr th {\n",
       "        vertical-align: top;\n",
       "    }\n",
       "\n",
       "    .dataframe thead th {\n",
       "        text-align: right;\n",
       "    }\n",
       "</style>\n",
       "<table border=\"1\" class=\"dataframe\">\n",
       "  <thead>\n",
       "    <tr style=\"text-align: right;\">\n",
       "      <th></th>\n",
       "      <th>total_bill</th>\n",
       "      <th>tip</th>\n",
       "      <th>sex</th>\n",
       "      <th>smoker</th>\n",
       "      <th>day</th>\n",
       "      <th>time</th>\n",
       "      <th>size</th>\n",
       "    </tr>\n",
       "  </thead>\n",
       "  <tbody>\n",
       "    <tr>\n",
       "      <th>1</th>\n",
       "      <td>16.99</td>\n",
       "      <td>1.01</td>\n",
       "      <td>Female</td>\n",
       "      <td>No</td>\n",
       "      <td>Sun</td>\n",
       "      <td>Dinner</td>\n",
       "      <td>2</td>\n",
       "    </tr>\n",
       "    <tr>\n",
       "      <th>2</th>\n",
       "      <td>10.34</td>\n",
       "      <td>1.66</td>\n",
       "      <td>Male</td>\n",
       "      <td>No</td>\n",
       "      <td>Sun</td>\n",
       "      <td>Dinner</td>\n",
       "      <td>3</td>\n",
       "    </tr>\n",
       "    <tr>\n",
       "      <th>3</th>\n",
       "      <td>21.01</td>\n",
       "      <td>3.50</td>\n",
       "      <td>Male</td>\n",
       "      <td>No</td>\n",
       "      <td>Sun</td>\n",
       "      <td>Dinner</td>\n",
       "      <td>3</td>\n",
       "    </tr>\n",
       "    <tr>\n",
       "      <th>4</th>\n",
       "      <td>23.68</td>\n",
       "      <td>3.31</td>\n",
       "      <td>Male</td>\n",
       "      <td>No</td>\n",
       "      <td>Sun</td>\n",
       "      <td>Dinner</td>\n",
       "      <td>2</td>\n",
       "    </tr>\n",
       "    <tr>\n",
       "      <th>5</th>\n",
       "      <td>24.59</td>\n",
       "      <td>3.61</td>\n",
       "      <td>Female</td>\n",
       "      <td>No</td>\n",
       "      <td>Sun</td>\n",
       "      <td>Dinner</td>\n",
       "      <td>4</td>\n",
       "    </tr>\n",
       "  </tbody>\n",
       "</table>\n",
       "</div>"
      ],
      "text/plain": [
       "   total_bill   tip     sex smoker  day    time  size\n",
       "1       16.99  1.01  Female     No  Sun  Dinner     2\n",
       "2       10.34  1.66    Male     No  Sun  Dinner     3\n",
       "3       21.01  3.50    Male     No  Sun  Dinner     3\n",
       "4       23.68  3.31    Male     No  Sun  Dinner     2\n",
       "5       24.59  3.61  Female     No  Sun  Dinner     4"
      ]
     },
     "execution_count": 2,
     "metadata": {},
     "output_type": "execute_result"
    }
   ],
   "source": [
    "df = data(\"tips\")\n",
    "df.head()"
   ]
  },
  {
   "cell_type": "markdown",
   "metadata": {},
   "source": [
    "## Example Business Questions\n",
    "> Hypothesis testing allows us to answer business questions with statistical tests.\n",
    "\n",
    "- Does the tip amount vary w/ the size of the total bill? (I hope so, but let's answer w/ a statistical test) **correlation test**\n",
    "- Do smoking tables tip better than non-smoking tables? **t-test**\n",
    "- Do smoking tables have higher total_bills than non-smoking bills? **t-test**\n",
    "- Is there a relationship between smoking tables and time of day?\n",
    "- Is there a relationship between smoking tables and day of week?"
   ]
  },
  {
   "cell_type": "markdown",
   "metadata": {},
   "source": [
    "## Testing Continuous to Continuous (Regression)\n",
    "\n",
    "![continuous vs. continuous variable test w/ regression](./img/continuous_vs_continuous.png)\n",
    "\n",
    "- Business question is, \"Do tips increase as total_bill increases\" or \"Do bigger bills mean bigger tips?\"\n",
    "- Statistical wording for the question: Do tips and total bill have a linear relationship?\n",
    "- We'll get the answer with a correlation test!\n",
    "- For correlation, our null hypothesis is that there is no linear relationship.\n",
    "\n",
    "#### Gotchas w/ Correlation Test\n",
    "- Correlation ain't causation\n",
    "- Correlation measures a linear relationship between two variables\n",
    "- Correlation doesn't account for the presence of confounding variables (other explanatory variables)"
   ]
  },
  {
   "cell_type": "code",
   "execution_count": 3,
   "metadata": {},
   "outputs": [],
   "source": [
    "null_hypothesis = \"Total Bill and Tip amount do not have a linear relationship\"\n",
    "alternative_hypothesis = \"Total bill and tip have a linear relationship\"\n",
    "\n",
    "# We want to be 99% sure that our findings are not due to randomness/chance\n",
    "confidence_interval = 0.99\n",
    "\n",
    "# We need to define our alpha before we run any tests\n",
    "alpha = 1 - confidence_interval"
   ]
  },
  {
   "cell_type": "code",
   "execution_count": 4,
   "metadata": {},
   "outputs": [
    {
     "data": {
      "text/plain": [
       "(0.6757341092113647, 6.6924706468630016e-34)"
      ]
     },
     "execution_count": 4,
     "metadata": {},
     "output_type": "execute_result"
    }
   ],
   "source": [
    "from scipy import stats\n",
    "\n",
    "corr, p = stats.pearsonr(df.total_bill, df.tip)\n",
    "corr, p"
   ]
  },
  {
   "cell_type": "code",
   "execution_count": 5,
   "metadata": {},
   "outputs": [
    {
     "name": "stdout",
     "output_type": "stream",
     "text": [
      "We reject the null hypothesis that Total Bill and Tip amount do not have a linear relationship\n",
      "We move forward with the understanding that Total bill and tip have a linear relationship\n"
     ]
    }
   ],
   "source": [
    "# If our p is lower than our alpha, then we reject the null\n",
    "if p < alpha:\n",
    "    print(\"We reject the null hypothesis that\", null_hypothesis)\n",
    "    print(\"We move forward with the understanding that\", alternative_hypothesis)\n",
    "else:\n",
    "    print(\"We fail to reject the null hypothesis\")\n",
    "    print(\"we are unable (currently) to prove there's no linear relationship\")"
   ]
  },
  {
   "cell_type": "code",
   "execution_count": 6,
   "metadata": {},
   "outputs": [
    {
     "data": {
      "image/png": "[encoded data removed]",
      "text/plain": [
       "<Figure size 432x288 with 1 Axes>"
      ]
     },
     "metadata": {
      "needs_background": "light"
     },
     "output_type": "display_data"
    }
   ],
   "source": [
    "plt.title(\"Total Bill vsb Tip amount\")\n",
    "sns.regplot(x=\"total_bill\", y=\"tip\", data=df)\n",
    "plt.show()"
   ]
  },
  {
   "cell_type": "markdown",
   "metadata": {},
   "source": [
    "#### Takeaways from \n",
    "- We reject the null hypothesis that there's no linear relationship between total_bill and tip\n",
    "- We move forwaard w/ the understanding that total_bill and tip have a linear relationship\n",
    "- The strength of that relationship isn't 100% 1 to 1, but it's 0.67 (which is pretty decent with real world data)"
   ]
  },
  {
   "cell_type": "markdown",
   "metadata": {},
   "source": [
    "## Testing A Continuous vs. a categorical (T-Test)\n",
    "![t-test](img/continuous_vs_categorical.png)\n",
    "There are 2 approaches to T-Tests\n",
    "1. One sample T-Test compares the means of a continuous variable between a subgroup vs. the population mean\n",
    "2. The two sample T-Test compares the means a continuous variable between two different subgroups of a population"
   ]
  },
  {
   "cell_type": "markdown",
   "metadata": {},
   "source": [
    "### One Sample T-Test Example (compare a subgroup to the population)\n",
    "- Business question: are tips on Sunday higher vs. the rest of the week?\n",
    "- The null hypothesis is there's no difference\n",
    "- The alternative hypothesis is there is a difference between Friday tips vs. tips the rest of the week."
   ]
  },
  {
   "cell_type": "code",
   "execution_count": 7,
   "metadata": {},
   "outputs": [],
   "source": [
    "# We want to be sure that the effect we see isn't explained by chance, so we'll keep our alpha super low\n",
    "null_hypothesis = \"Friday tips are the same as the rest of the week.\"\n",
    "alternative_hypothesis = \"Friday tips are different than the rest of the week\" \n",
    "alpha = 0.01"
   ]
  },
  {
   "cell_type": "code",
   "execution_count": 8,
   "metadata": {},
   "outputs": [],
   "source": [
    "# We'll isolate our one subgroup to compare its mean vs. the population\n",
    "sunday = df[df.day == \"Fri\"]"
   ]
  },
  {
   "cell_type": "code",
   "execution_count": 9,
   "metadata": {},
   "outputs": [
    {
     "name": "stdout",
     "output_type": "stream",
     "text": [
      "t = -1.127\n",
      "p = 0.275\n"
     ]
    }
   ],
   "source": [
    "t, p = stats.ttest_1samp(sunday.tip, df.tip.mean())\n",
    "print(f't = {t:.3f}')\n",
    "print(f'p = {p:.3f}')"
   ]
  },
  {
   "cell_type": "code",
   "execution_count": 10,
   "metadata": {},
   "outputs": [
    {
     "name": "stdout",
     "output_type": "stream",
     "text": [
      "We fail to reject the null\n",
      "Our evidence does not support the claim that Friday tips are different than the rest of the week\n"
     ]
    }
   ],
   "source": [
    "if p < alpha:\n",
    "    print(\"We reject the null hypothesis that\", null_hypothesis)\n",
    "    print(\"We move forward with the alternative hypothesis that\", alternative_hypothesis)\n",
    "else:\n",
    "    print(\"We fail to reject the null\")\n",
    "    print(\"Our evidence does not support the claim that Friday tips are different than the rest of the week\")"
   ]
  },
  {
   "cell_type": "markdown",
   "metadata": {},
   "source": [
    "### Two Sample T-Test Example (compare two subgroups with eachother)\n",
    "- Business question: Do smoking tables tip more or less than non-smoking tables\n",
    "- Statistical question: Are the average tip values dramatically different for each group?"
   ]
  },
  {
   "cell_type": "code",
   "execution_count": 11,
   "metadata": {},
   "outputs": [],
   "source": [
    "null_hypothesis = \"Smoking tables and non-smoking tables tip the same amount\"\n",
    "alternative_hypothesis = \"Smoking tables and non-smoking tables tip a different amount\"\n",
    "alpha = 0.01 # we want to be 99% sure our results aren't the result of chance/randomness"
   ]
  },
  {
   "cell_type": "code",
   "execution_count": 12,
   "metadata": {},
   "outputs": [
    {
     "data": {
      "text/plain": [
       "0.9265931522244976"
      ]
     },
     "execution_count": 12,
     "metadata": {},
     "output_type": "execute_result"
    }
   ],
   "source": [
    "smoking = df[df.smoker == \"Yes\"]\n",
    "non_smoking = df[df.smoker == \"No\"]\n",
    "\n",
    "t, p = stats.ttest_ind(smoking.tip, non_smoking.tip)\n",
    "p"
   ]
  },
  {
   "cell_type": "code",
   "execution_count": 13,
   "metadata": {},
   "outputs": [
    {
     "name": "stdout",
     "output_type": "stream",
     "text": [
      "We fail to reject the null hypothesis\n",
      "Evidence does not support the claim that smoking vs. non-smoking talbes tip differently\n"
     ]
    }
   ],
   "source": [
    "if p < alpha:\n",
    "    print(\"We reject the null hypothesis that\", null_hypothesis)\n",
    "    print(\"We move forward with the hypothesis that\", alternative_hypothesis)\n",
    "else:\n",
    "    print(\"We fail to reject the null hypothesis\")\n",
    "    print(\"Evidence does not support the claim that smoking vs. non-smoking talbes tip differently\")"
   ]
  },
  {
   "cell_type": "code",
   "execution_count": 14,
   "metadata": {},
   "outputs": [
    {
     "data": {
      "image/png": "[encoded data removed]",
      "text/plain": [
       "<Figure size 432x288 with 1 Axes>"
      ]
     },
     "metadata": {
      "needs_background": "light"
     },
     "output_type": "display_data"
    }
   ],
   "source": [
    "import seaborn as sns\n",
    "plt.title(\"Total Bill vs. Tip by smoking status\")\n",
    "sns.scatterplot(x=\"total_bill\", y=\"tip\", data=df, hue=\"smoker\")\n",
    "plt.show()"
   ]
  },
  {
   "cell_type": "markdown",
   "metadata": {},
   "source": [
    "## Testing Categorical vs. Categorical (Chi Squared)\n",
    "![chi_squared](./img/categorical_vs_categorical.png)\n",
    "- The null hypothesis is that Categorical variable A and Categorical variable B have no relationship, no dependence.\n",
    "- Business question: a patron wants to visit at lunch or dinner to avoid as many smokers as possible?\n",
    "- Statistics way of phrasing the question: is there dependence between time of day and smoking status?\n",
    "- Null hypothesis = there is no dependence between smoking status and time of day"
   ]
  },
  {
   "cell_type": "code",
   "execution_count": 15,
   "metadata": {},
   "outputs": [],
   "source": [
    "null_hypothesis = \"There is no dependence between smoking status and time of day (Lunch or Dinner)\"\n",
    "alternative_hypothesis = \"There is a dependence between time of day (lunch/dinner) and smoking status\"\n",
    "alpha = 0.01 # we want to be 99% sure that the evidence we see is not due to chance"
   ]
  },
  {
   "cell_type": "code",
   "execution_count": 16,
   "metadata": {},
   "outputs": [],
   "source": [
    "observed = pd.crosstab(df.time, df.smoker)"
   ]
  },
  {
   "cell_type": "code",
   "execution_count": 17,
   "metadata": {},
   "outputs": [
    {
     "data": {
      "text/plain": [
       "0.4771485672079724"
      ]
     },
     "execution_count": 17,
     "metadata": {},
     "output_type": "execute_result"
    }
   ],
   "source": [
    "chi2, p, degf, expected = stats.chi2_contingency(observed)\n",
    "p"
   ]
  },
  {
   "cell_type": "code",
   "execution_count": 18,
   "metadata": {},
   "outputs": [
    {
     "name": "stdout",
     "output_type": "stream",
     "text": [
      "We fail to reject the null\n",
      "Evidence does not support the claim that smoking status and time of day are dependent/related\n"
     ]
    }
   ],
   "source": [
    "if p < alpha:\n",
    "    print(\"We reject the null that\", null_hypothesis)\n",
    "    print(\"We move forward with the alternative hypothesis that\", alternative_hypothesis)\n",
    "else:\n",
    "    print(\"We fail to reject the null\")\n",
    "    print(\"Evidence does not support the claim that smoking status and time of day are dependent/related\")"
   ]
  },
  {
   "cell_type": "code",
   "execution_count": 19,
   "metadata": {},
   "outputs": [
    {
     "data": {
      "text/plain": [
       "<seaborn.axisgrid.FacetGrid at 0x117edbcf8>"
      ]
     },
     "execution_count": 19,
     "metadata": {},
     "output_type": "execute_result"
    },
    {
     "data": {
      "image/png": "[encoded data removed]",
      "text/plain": [
       "<Figure size 412x360 with 1 Axes>"
      ]
     },
     "metadata": {
      "needs_background": "light"
     },
     "output_type": "display_data"
    }
   ],
   "source": [
    "sns.catplot(x=\"time\", hue=\"smoker\", kind=\"count\", data=df)"
   ]
  },
  {
   "cell_type": "code",
   "execution_count": 20,
   "metadata": {},
   "outputs": [
    {
     "name": "stdout",
     "output_type": "stream",
     "text": [
      "No     106\n",
      "Yes     70\n",
      "Name: smoker, dtype: int64\n",
      "The ratio of smokers to non-smokers at Dinner is 0.3977272727272727\n"
     ]
    }
   ],
   "source": [
    "print(df[df.time == \"Dinner\"].smoker.value_counts())\n",
    "print(\"The ratio of smokers to non-smokers at Dinner is\", 70/176)"
   ]
  },
  {
   "cell_type": "code",
   "execution_count": 21,
   "metadata": {},
   "outputs": [
    {
     "name": "stdout",
     "output_type": "stream",
     "text": [
      "No     45\n",
      "Yes    23\n",
      "Name: smoker, dtype: int64\n",
      "The ratio of smokers to non-smokers at Dinner is 0.3382352941176471\n"
     ]
    }
   ],
   "source": [
    "print(df[df.time == \"Lunch\"].smoker.value_counts()) # so 23 / (23 + 45)\n",
    "print(\"The ratio of smokers to non-smokers at Dinner is\", 23 / (23 + 45))"
   ]
  },
  {
   "cell_type": "markdown",
   "metadata": {},
   "source": [
    "### Takeaways from this Chi-Squared Test (So far) \n",
    "- The difference between 34% and 40% is not huge (at least as far as ratios)\n",
    "- There's less smoke overall at lunch, but the ratios between lunch/dinner aren't far enough apart to be significant\n",
    "- Looks like between 34%-40% of the restaurant is smoking no matter the time of day..."
   ]
  },
  {
   "cell_type": "markdown",
   "metadata": {},
   "source": [
    "## Let's run another Chi-Squared test to see how to accomodate our non-smokers\n",
    "- The patron says \"Ok, dinner or lunch doesn't matter as much, but is there a day of the week that's better for non-smokers? I heard your food is good, but I want to be able to smell the cooking!\"\n",
    "- Business question: Are there days that are better for a non-smoker to visit?\n",
    "- Stats phrasing: Is smoking status of tables independent from the day of the week?\n",
    "- Our null hypothesis is that there is no dependence. Smoking tables is independent from day of the week\n",
    "- Alternative hypothesis is that the day of week and smoking status are related/dependent on eachother."
   ]
  },
  {
   "cell_type": "code",
   "execution_count": 22,
   "metadata": {},
   "outputs": [],
   "source": [
    "# Let's check if smoking status is independent of which day of the week\n",
    "null_hypothesis = \"Smoking status and day of the week are independent. There's no dependence/relationship\"\n",
    "alternative_hypothesis = \"Smoking status and day of the week are dependent\""
   ]
  },
  {
   "cell_type": "code",
   "execution_count": 23,
   "metadata": {},
   "outputs": [],
   "source": [
    "observed = pd.crosstab(df.day, df.smoker)"
   ]
  },
  {
   "cell_type": "code",
   "execution_count": 24,
   "metadata": {},
   "outputs": [
    {
     "data": {
      "text/plain": [
       "1.0567572499836523e-05"
      ]
     },
     "execution_count": 24,
     "metadata": {},
     "output_type": "execute_result"
    }
   ],
   "source": [
    "chi2, p, degf, expected = stats.chi2_contingency(observed)\n",
    "p"
   ]
  },
  {
   "cell_type": "code",
   "execution_count": 25,
   "metadata": {},
   "outputs": [
    {
     "name": "stdout",
     "output_type": "stream",
     "text": [
      "We reject the null that Smoking status and day of the week are independent. There's no dependence/relationship\n",
      "We move forward with the alternative hypothesis that Smoking status and day of the week are dependent\n"
     ]
    }
   ],
   "source": [
    "if p < alpha:\n",
    "    print(\"We reject the null that\", null_hypothesis)\n",
    "    print(\"We move forward with the alternative hypothesis that\", alternative_hypothesis)\n",
    "else:\n",
    "    print(\"We fail to reject the null\")\n",
    "    print(\"Evidence does not support the claim that smoking status and the day of week are dependent/related\")"
   ]
  },
  {
   "cell_type": "code",
   "execution_count": 26,
   "metadata": {},
   "outputs": [
    {
     "data": {
      "text/plain": [
       "<seaborn.axisgrid.FacetGrid at 0x11808aa58>"
      ]
     },
     "execution_count": 26,
     "metadata": {},
     "output_type": "execute_result"
    },
    {
     "data": {
      "image/png": "[encoded data removed]",
      "text/plain": [
       "<Figure size 412x360 with 1 Axes>"
      ]
     },
     "metadata": {
      "needs_background": "light"
     },
     "output_type": "display_data"
    }
   ],
   "source": [
    "sns.catplot(x=\"day\", hue=\"smoker\", kind=\"count\", data=df)"
   ]
  },
  {
   "cell_type": "markdown",
   "metadata": {},
   "source": [
    "### More takeaways from the second Chi-Squared test\n",
    "- It looks like day of the week/smoking status are related/dependent on eachother\n",
    "- Sunday and Thursday look like great days for patrons who want much less smoking in their restaurant experience\n",
    "- Friday appears to be the tobacco lobbyist day to visit this restaurant!"
   ]
  },
  {
   "cell_type": "markdown",
   "metadata": {},
   "source": [
    "## What About Comparing A Continuous Variable to More than 2 Categorical Values? (ANOVA)\n",
    "![analysis of variance logo](./img/anova.png)\n",
    "- ANOVA is like a t-test for comparing one continuous variable among 2+ categorical values\n",
    "- Business use case: Are tips the same or different across days of the week?\n",
    "- Another business question: Is the `total_bill` \n",
    "- Statistical way of framing the question: Are the tip averages significantly different on different days of the week?\n",
    "- Null hypothesis: tip amounts are the same for each day of the week.\n",
    "- Alternative hypothsis: tip amounts are different on each day of the week."
   ]
  },
  {
   "cell_type": "code",
   "execution_count": 27,
   "metadata": {},
   "outputs": [],
   "source": [
    "null_hypothesis = \"Average Tip amounts are the same across days of the week\"\n",
    "alternative_hypothesis = \"Average tips are different on different days of the week\"\n",
    "alpha = 0.01 # Let's be 99% certain the result we see isn't due to chance/randomness"
   ]
  },
  {
   "cell_type": "code",
   "execution_count": 28,
   "metadata": {},
   "outputs": [],
   "source": [
    "# Let's isolate out the tips by day\n",
    "thursday_tips = df[df.day == \"Thur\"].tip\n",
    "friday_tips = df[df.day == \"Fri\"].tip\n",
    "saturday_tips = df[df.day == \"Sat\"].tip\n",
    "sunday_tips = df[df.day == \"Sun\"].tip"
   ]
  },
  {
   "cell_type": "code",
   "execution_count": 29,
   "metadata": {},
   "outputs": [
    {
     "data": {
      "text/plain": [
       "0.1735885553040592"
      ]
     },
     "execution_count": 29,
     "metadata": {},
     "output_type": "execute_result"
    }
   ],
   "source": [
    "# f_oneway is our ANOVA test\n",
    "# See https://docs.scipy.org/doc/scipy/reference/generated/scipy.stats.f_oneway.html for more info\n",
    "from scipy.stats import f_oneway\n",
    "\n",
    "f, p = f_oneway(thursday_tips, friday_tips, saturday_tips, sunday_tips)\n",
    "p"
   ]
  },
  {
   "cell_type": "code",
   "execution_count": 30,
   "metadata": {},
   "outputs": [
    {
     "name": "stdout",
     "output_type": "stream",
     "text": [
      "We fail to reject the null hypothesis\n",
      "Evidence does not support the claim that tip averages are significantly different across days of the week.\n"
     ]
    }
   ],
   "source": [
    "if p < alpha:\n",
    "    print(\"We reject the null hypothesis that\", null_hypothesis)\n",
    "    print(\"We move forward with the alternative hypothesis that\", alternative_hypothesis)\n",
    "else:\n",
    "    print(\"We fail to reject the null hypothesis\")\n",
    "    print(\"Evidence does not support the claim that tip averages are significantly different across days of the week.\")"
   ]
  },
  {
   "cell_type": "code",
   "execution_count": 31,
   "metadata": {},
   "outputs": [
    {
     "data": {
      "text/plain": [
       "<seaborn.axisgrid.FacetGrid at 0x1182d9ef0>"
      ]
     },
     "execution_count": 31,
     "metadata": {},
     "output_type": "execute_result"
    },
    {
     "data": {
      "image/png": "[encoded data removed]",
      "text/plain": [
       "<Figure size 360x360 with 1 Axes>"
      ]
     },
     "metadata": {
      "needs_background": "light"
     },
     "output_type": "display_data"
    }
   ],
   "source": [
    "sns.catplot(x=\"day\", y=\"tip\", kind=\"bar\", data=df)"
   ]
  },
  {
   "cell_type": "markdown",
   "metadata": {},
   "source": [
    "## Takeaways\n",
    "- Visualizations are a great place to start for exploring relationships of variables\n",
    "- Statistical tests inform us if we should believe our eyes w/ what we see\n",
    "- Statistical tests allow us to answer if there's a relationship or not (but don't explain the size of that relationship)\n",
    "- The $H_0$ null hypothesis is always framed as:\n",
    "    - There's no significant difference between continuous variables of 2 subgroups (two-sample t-test)\n",
    "    - There's no significant difference between the continuous variaable of a subgroup and its population (one sample t-test)\n",
    "    - There's no linear relationship between two continuous variables (correlation)\n",
    "    - There's no dependence between two categorical variables (chi-squared)\n",
    "\n",
    "- If the $p$ is low, reject the null\n",
    "- When we reject the null hypothesis, it means there's *something going on* and it's worth investigating\n",
    "- If we fail to reject the null hypothesis, it means there's no significant evidence of differences or *something* going on"
   ]
  },
  {
   "cell_type": "markdown",
   "metadata": {},
   "source": [
    "By [Ryan Orsinger](https://github.com/ryanorsinger)"
   ]
  }
 ],
 "metadata": {
  "kernelspec": {
   "display_name": "Python 3",
   "language": "python",
   "name": "python3"
  },
  "language_info": {
   "codemirror_mode": {
    "name": "ipython",
    "version": 3
   },
   "file_extension": ".py",
   "mimetype": "text/x-python",
   "name": "python",
   "nbconvert_exporter": "python",
   "pygments_lexer": "ipython3",
   "version": "3.7.3"
  }
 },
 "nbformat": 4,
 "nbformat_minor": 4
}
