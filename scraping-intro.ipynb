{
 "cells": [
  {
   "cell_type": "markdown",
   "metadata": {},
   "source": [
    "# Intro to Web Scraping\n"
   ]
  },
  {
   "cell_type": "code",
   "execution_count": 1,
   "metadata": {},
   "outputs": [],
   "source": [
    "# Imports\n",
    "from requests import get\n",
    "import pandas as pd\n",
    "from bs4 import BeautifulSoup"
   ]
  },
  {
   "cell_type": "markdown",
   "metadata": {},
   "source": [
    "## Web Scraping == Reading and Parsing Data\n",
    "- TXT\n",
    "- JSON \n",
    "- CSV\n",
    "- **HTML** (The language of content and structure for the web)"
   ]
  },
  {
   "cell_type": "code",
   "execution_count": 2,
   "metadata": {},
   "outputs": [],
   "source": [
    "# URLS \n",
    "text_url = 'https://machinelearning.fit/example.txt'\n",
    "json_url = 'https://machinelearning.fit/example.json'\n",
    "csv_url = 'https://machinelearning.fit/example.csv'\n",
    "html_url = 'https://machinelearning.fit/example.html'"
   ]
  },
  {
   "cell_type": "code",
   "execution_count": 82,
   "metadata": {},
   "outputs": [],
   "source": [
    "reponse = get(html_url)"
   ]
  },
  {
   "cell_type": "code",
   "execution_count": 84,
   "metadata": {},
   "outputs": [
    {
     "data": {
      "text/plain": [
       "'<!DOCTYPE html>\\n<html>\\n<head>\\n    <meta charset=\"utf-8\" />\\n    <meta http-equiv=\"X-UA-Compatible\" content=\"IE=edge\" />\\n    <meta name=\"viewport\" content=\"width=device-width, initial-scale=1\" />\\n\\n    <title>This is an Example Web Page</title>\\n    <style type=\"text/css\">\\n        * {\\n            box-sizing: border-box;\\n        }\\n\\n        body {\\n            margin: 0 auto;\\n            max-width: 50em;\\n            font-family: sans-serif;\\n        }\\n\\n        header {\\n            font-family: serif;\\n            background-color: black;\\n            color: white;\\n            margin: 2em;\\n            padding: 1em;\\n            text-align: center;\\n        }\\n\\n        main {\\n            padding: 3em;\\n            border: 1px solid black;\\n        }\\n\\n    </style>\\n</head>\\n<body>\\n\\n<header>\\n    <h1>This is an example webpage</h1>\\n</header>\\n<main>\\n    <section>\\n        <h2>HTML</h2>\\n        <p>HTML is a language for structure and content for the web.</p>\\n        <p>We need to parse HTML because we want the content, not the HTML tags.</p>\\n        <h3>Some HTML structure/content</h3>\\n        <ul>\\n            <li>Text</li>   \\n            <li>Bullet points</li>   \\n            <li>Images</li>   \\n            <li>Video/Audio</li>   \\n        </ul>\\n    </section>\\n    <section>\\n        <h2>Manually Parsing HTML</h2>\\n        <p>Short answer: Don\\'t do it.</p>\\n        <p>Avoid parsing HTML with regex. See <a href=\"https://stackoverflow.com/questions/1732348/regex-match-open-tags-except-xhtml-self-contained-tags/\" target=\"_blank\">this StackOverflow</a> if you are curious.</p>\\n    </section>\\n    <section>\\n        <h2>Best Way to parse HTML</h2>\\n        <p>Use a library, like Beautiful Soup, that is built for HTML.</p>\\n    </section>\\n    \\n    <p>\\n    \\n    </p>\\n</main>\\n\\n</body>\\n</html>'"
      ]
     },
     "execution_count": 84,
     "metadata": {},
     "output_type": "execute_result"
    }
   ],
   "source": [
    "response.text"
   ]
  },
  {
   "cell_type": "code",
   "execution_count": 86,
   "metadata": {},
   "outputs": [
    {
     "data": {
      "text/plain": [
       "\"\\n\\n\\n\\n\\n\\nThis is an Example Web Page\\n\\n\\n\\n\\nThis is an example webpage\\n\\n\\n\\nHTML\\nHTML is a language for structure and content for the web.\\nWe need to parse HTML because we want the content, not the HTML tags.\\nSome HTML structure/content\\n\\nText\\nBullet points\\nImages\\nVideo/Audio\\n\\n\\n\\nManually Parsing HTML\\nShort answer: Don't do it.\\nAvoid parsing HTML with regex. See this StackOverflow if you are curious.\\n\\n\\nBest Way to parse HTML\\nUse a library, like Beautiful Soup, that is built for HTML.\\n\\n\\n\\n\\n\\n\""
      ]
     },
     "execution_count": 86,
     "metadata": {},
     "output_type": "execute_result"
    }
   ],
   "source": [
    "soup = BeautifulSoup(response.text)\n",
    "soup.text"
   ]
  },
  {
   "cell_type": "code",
   "execution_count": 87,
   "metadata": {},
   "outputs": [
    {
     "data": {
      "text/plain": [
       "<a href=\"https://stackoverflow.com/questions/1732348/regex-match-open-tags-except-xhtml-self-contained-tags/\" target=\"_blank\">this StackOverflow</a>"
      ]
     },
     "execution_count": 87,
     "metadata": {},
     "output_type": "execute_result"
    }
   ],
   "source": [
    "soup.find(\"a\")"
   ]
  },
  {
   "cell_type": "code",
   "execution_count": 88,
   "metadata": {},
   "outputs": [
    {
     "data": {
      "text/plain": [
       "'https://stackoverflow.com/questions/1732348/regex-match-open-tags-except-xhtml-self-contained-tags/'"
      ]
     },
     "execution_count": 88,
     "metadata": {},
     "output_type": "execute_result"
    }
   ],
   "source": [
    "soup.find(\"a\")[\"href\"]"
   ]
  },
  {
   "cell_type": "code",
   "execution_count": 90,
   "metadata": {},
   "outputs": [
    {
     "data": {
      "text/plain": [
       "'This is an example webpage'"
      ]
     },
     "execution_count": 90,
     "metadata": {},
     "output_type": "execute_result"
    }
   ],
   "source": [
    "soup.find(\"h1\").text"
   ]
  },
  {
   "cell_type": "code",
   "execution_count": 93,
   "metadata": {},
   "outputs": [
    {
     "data": {
      "text/plain": [
       "'Best Way to parse HTML'"
      ]
     },
     "execution_count": 93,
     "metadata": {},
     "output_type": "execute_result"
    }
   ],
   "source": [
    "soup.find_all(\"h2\")[-1].text"
   ]
  },
  {
   "cell_type": "code",
   "execution_count": null,
   "metadata": {},
   "outputs": [],
   "source": []
  }
 ],
 "metadata": {
  "kernelspec": {
   "display_name": "Python 3",
   "language": "python",
   "name": "python3"
  },
  "language_info": {
   "codemirror_mode": {
    "name": "ipython",
    "version": 3
   },
   "file_extension": ".py",
   "mimetype": "text/x-python",
   "name": "python",
   "nbconvert_exporter": "python",
   "pygments_lexer": "ipython3",
   "version": "3.7.3"
  }
 },
 "nbformat": 4,
 "nbformat_minor": 4
}
